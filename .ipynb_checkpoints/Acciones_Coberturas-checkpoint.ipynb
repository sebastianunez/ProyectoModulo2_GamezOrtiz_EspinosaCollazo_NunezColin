{
 "cells": [
  {
   "cell_type": "markdown",
   "metadata": {},
   "source": [
    "# <font  FACE=\"Century Gothic\" color = #E74C3C> Número Optimo de Contratos para hacer coberturas de acciones </font>"
   ]
  },
  {
   "cell_type": "markdown",
   "metadata": {},
   "source": [
    "## <font FACE=\"Century Gothic\"color= ##64A4FC  > Introducción </font>\n",
    "\n",
    "<font FACE=\"Century Gothic\"> El invertir en la bolsa de valores es tomar muchos riesgos, es por esto que los productores / fabricantes quieren disminuir sus probabilidades de perdidas es por esto que acuden a las coberturas.</font>\n",
    "\n",
    "><font FACE=\"Century Gothic\" color= #EC7063 > Cobertura </font>\n",
    "\n",
    "><font FACE=\"Century Gothic\"> En la bolsa de valores, una cobertura es una acción que se realiza para proteger una posición de un activo o derivado. </font>\n",
    "\n",
    "\n",
    ">><font FACE=\"Century Gothic\"> Para saber cuantos acciones o contratos se deben comprar para protegerse si es que el precio de la accion cae o sube, se tienen que hacer ciertos calculos: </font> \n",
    "\n",
    " >>- <font FACE=\"Century Gothic\"> Predicción de comportamiento de accion (para aber que postura tomar en la cobertura</font>\n",
    " >>- <font FACE=\"Century Gothic\"> Caluculo de Beta. </font>\n",
    " >>- <font FACE=\"Century Gothic\"> Sacar el retorno de los precios de cierre de cada dia. </font>\n",
    " >>- <font FACE=\"Century Gothic\"> Valor actual de la acción.</font>\n",
    " >>- <font FACE=\"Century Gothic\"> Valor futuro de la acción. </font>\n",
    " \n",
    "><font FACE=\"Century Gothic\"> Todo esto sacando informacion de Yahoo de la accion</font>\n",
    "\n"
   ]
  },
  {
   "cell_type": "markdown",
   "metadata": {},
   "source": [
    "## <font FACE=\"Century Gothic\"color= ##64A4FC  > Objetivos </font>\n",
    "\n",
    "> ### <font FACE=\"Century Gothic\"color= #EC7063> Obejtivo General: </font>\n",
    ">> <font FACE=\"Century Gothic\"> El fin de este proyecto es hacer el calculo de cuantos contratos de opciones de cierta accion comprar para hacer una cobertura.</font>\n",
    "\n",
    "> ### <font FACE=\"Century Gothic\"color= #EC7063> Objetivos específicos: </font>\n",
    "<font FACE=\"Century Gothic\"> Hacer la simulacion de comportamiento de la accion, y despues simular los rendimientos futuros de la misma; esto para hacer la mejor estrategia de cobertura (saber que posicion tomar si de compra o de venta), ademas para saber cual es el número opctimo de contratos a firmar. "
   ]
  },
  {
   "cell_type": "code",
   "execution_count": null,
   "metadata": {
    "collapsed": true
   },
   "outputs": [],
   "source": []
  }
 ],
 "metadata": {
  "kernelspec": {
   "display_name": "Python 3",
   "language": "python",
   "name": "python3"
  },
  "language_info": {
   "codemirror_mode": {
    "name": "ipython",
    "version": 3
   },
   "file_extension": ".py",
   "mimetype": "text/x-python",
   "name": "python",
   "nbconvert_exporter": "python",
   "pygments_lexer": "ipython3",
   "version": "3.6.1"
  }
 },
 "nbformat": 4,
 "nbformat_minor": 2
}
